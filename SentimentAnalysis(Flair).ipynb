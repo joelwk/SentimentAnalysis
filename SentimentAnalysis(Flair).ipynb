{
 "cells": [
  {
   "cell_type": "markdown",
   "metadata": {
    "id": "v7THeSKjzAHl"
   },
   "source": [
    "## Sentiment Analysis (Flair)"
   ]
  },
  {
   "cell_type": "code",
   "execution_count": 51,
   "metadata": {
    "id": "XSwWBwaAzAHn"
   },
   "outputs": [],
   "source": [
    "from textblob import TextBlob\n",
    "from wordcloud import WordCloud\n",
    "import flair\n",
    "import pandas as pd\n",
    "import matplotlib.pyplot as plt\n",
    "pd.set_option('max_colwidth', None)"
   ]
  },
  {
   "cell_type": "code",
   "execution_count": 52,
   "metadata": {
    "id": "OONSq48-zAHo"
   },
   "outputs": [
    {
     "data": {
      "text/html": [
       "<div>\n",
       "<style scoped>\n",
       "    .dataframe tbody tr th:only-of-type {\n",
       "        vertical-align: middle;\n",
       "    }\n",
       "\n",
       "    .dataframe tbody tr th {\n",
       "        vertical-align: top;\n",
       "    }\n",
       "\n",
       "    .dataframe thead th {\n",
       "        text-align: right;\n",
       "    }\n",
       "</style>\n",
       "<table border=\"1\" class=\"dataframe\">\n",
       "  <thead>\n",
       "    <tr style=\"text-align: right;\">\n",
       "      <th></th>\n",
       "      <th>Date</th>\n",
       "      <th>ID</th>\n",
       "      <th>lang</th>\n",
       "      <th>Tweet</th>\n",
       "      <th>Original Tweet</th>\n",
       "    </tr>\n",
       "  </thead>\n",
       "  <tbody>\n",
       "    <tr>\n",
       "      <th>0</th>\n",
       "      <td>2021-01-03T19:20:59.000Z</td>\n",
       "      <td>1345812421676576768</td>\n",
       "      <td>en</td>\n",
       "      <td>mkbhd step 2 buy eth sub 1k step 3 outperform btcagain</td>\n",
       "      <td>@MKBHD Step 2: buy $ETH sub $1k\\n\\nStep 3: outperform $BTC...again.</td>\n",
       "    </tr>\n",
       "    <tr>\n",
       "      <th>1</th>\n",
       "      <td>2021-01-03T19:20:59.000Z</td>\n",
       "      <td>1345812421600940032</td>\n",
       "      <td>en</td>\n",
       "      <td>rt naturalmed777 think xrp xlm bigger people realize many stablecoins quietly built stellarxlm</td>\n",
       "      <td>RT @Naturalmed777: I think $XRP $XLM are bigger than what most people realize.\\n\\nHow many stablecoins were quietly built on Stellar/XLM in t…</td>\n",
       "    </tr>\n",
       "    <tr>\n",
       "      <th>2</th>\n",
       "      <td>2021-01-03T19:20:59.000Z</td>\n",
       "      <td>1345812421584285698</td>\n",
       "      <td>en</td>\n",
       "      <td>rt sheresed69 new toy subscribe onlyfans see squirt link bio httpstcox6ga8zbroo</td>\n",
       "      <td>RT @Sheresed69: New toy 😍😍 subscribe to my onlyfans to see me squirt 🥰\\nLink in bio 🤑 https://t.co/x6Ga8ZBrOO</td>\n",
       "    </tr>\n",
       "    <tr>\n",
       "      <th>3</th>\n",
       "      <td>2021-01-03T19:20:59.000Z</td>\n",
       "      <td>1345812420955144197</td>\n",
       "      <td>en</td>\n",
       "      <td>rt tokengoodguy0 digibyte dgb likely move faster bitcoin btc people realize undervalued secure faster</td>\n",
       "      <td>RT @TokenGoodGuy0: .\\n#Digibyte $dgb likely to move faster than #Bitcoin $btc when people realize it is undervalued, secure and faster\\n\\nIf D…</td>\n",
       "    </tr>\n",
       "    <tr>\n",
       "      <th>4</th>\n",
       "      <td>2021-01-03T19:20:59.000Z</td>\n",
       "      <td>1345812420783206401</td>\n",
       "      <td>en</td>\n",
       "      <td>rt nixtetic use comp remote commission work halt crash often know stop working woul</td>\n",
       "      <td>RT @nixtetic: I use my comp. for remote and commission work, but it halts and crashes so often that I know it will stop working, and I woul…</td>\n",
       "    </tr>\n",
       "  </tbody>\n",
       "</table>\n",
       "</div>"
      ],
      "text/plain": [
       "                       Date                   ID lang  \\\n",
       "0  2021-01-03T19:20:59.000Z  1345812421676576768   en   \n",
       "1  2021-01-03T19:20:59.000Z  1345812421600940032   en   \n",
       "2  2021-01-03T19:20:59.000Z  1345812421584285698   en   \n",
       "3  2021-01-03T19:20:59.000Z  1345812420955144197   en   \n",
       "4  2021-01-03T19:20:59.000Z  1345812420783206401   en   \n",
       "\n",
       "                                                                                                   Tweet  \\\n",
       "0                                                 mkbhd step 2 buy eth sub 1k step 3 outperform btcagain   \n",
       "1         rt naturalmed777 think xrp xlm bigger people realize many stablecoins quietly built stellarxlm   \n",
       "2                        rt sheresed69 new toy subscribe onlyfans see squirt link bio httpstcox6ga8zbroo   \n",
       "3  rt tokengoodguy0 digibyte dgb likely move faster bitcoin btc people realize undervalued secure faster   \n",
       "4                    rt nixtetic use comp remote commission work halt crash often know stop working woul   \n",
       "\n",
       "                                                                                                                                    Original Tweet  \n",
       "0                                                                              @MKBHD Step 2: buy $ETH sub $1k\\n\\nStep 3: outperform $BTC...again.  \n",
       "1   RT @Naturalmed777: I think $XRP $XLM are bigger than what most people realize.\\n\\nHow many stablecoins were quietly built on Stellar/XLM in t…  \n",
       "2                                    RT @Sheresed69: New toy 😍😍 subscribe to my onlyfans to see me squirt 🥰\\nLink in bio 🤑 https://t.co/x6Ga8ZBrOO  \n",
       "3  RT @TokenGoodGuy0: .\\n#Digibyte $dgb likely to move faster than #Bitcoin $btc when people realize it is undervalued, secure and faster\\n\\nIf D…  \n",
       "4     RT @nixtetic: I use my comp. for remote and commission work, but it halts and crashes so often that I know it will stop working, and I woul…  "
      ]
     },
     "execution_count": 52,
     "metadata": {},
     "output_type": "execute_result"
    }
   ],
   "source": [
    "#Extend column width to see entire text & load dataset\n",
    "pd.set_option('max_colwidth', None)\n",
    "data_raw = pd.read_csv('Dec28toJan03_Clean.csv')\n",
    "data_raw.head()"
   ]
  },
  {
   "cell_type": "code",
   "execution_count": null,
   "metadata": {},
   "outputs": [],
   "source": [
    "#Pass original data to new variable to store if we ned to reload the dataset\n",
    "data = data_raw"
   ]
  },
  {
   "cell_type": "code",
   "execution_count": 53,
   "metadata": {
    "id": "1tyUeKp-zAHo",
    "outputId": "7a3c6e7c-cf15-4340-8741-bf8d5776e59c"
   },
   "outputs": [
    {
     "name": "stdout",
     "output_type": "stream",
     "text": [
      "2021-01-03 19:50:55,298 loading file C:\\Users\\jwkon\\.flair\\models\\sentiment-en-mix-distillbert_3.1.pt\n"
     ]
    }
   ],
   "source": [
    "#Load English classifer\n",
    "sentiment_model = flair.models.TextClassifier.load('en-sentiment')"
   ]
  },
  {
   "cell_type": "code",
   "execution_count": 54,
   "metadata": {
    "id": "WoYBtnhPzAHt",
    "outputId": "5defb64e-c1cf-49a1-d2d2-f1a0662ab1a7"
   },
   "outputs": [
    {
     "data": {
      "text/plain": [
       "Sentence: \"I do agree , I think we will do well .\"   [− Tokens: 11  − Sentence-Labels: {'label': [POSITIVE (0.9858)]}]"
      ]
     },
     "execution_count": 54,
     "metadata": {},
     "output_type": "execute_result"
    }
   ],
   "source": [
    "#Positive control\n",
    "pos_sentence = flair.data.Sentence(\"I do agree, I think we will do well.\")\n",
    "sentiment_model.predict(pos_sentence)\n",
    "pos_sentence"
   ]
  },
  {
   "cell_type": "code",
   "execution_count": 55,
   "metadata": {
    "id": "kuVW1-qYzAHu",
    "outputId": "d6e5f81f-b433-4d0f-8385-46acf436b53c"
   },
   "outputs": [
    {
     "data": {
      "text/plain": [
       "Sentence: \"I absolutely disagree , I think you 're wrong\"   [− Tokens: 9  − Sentence-Labels: {'label': [NEGATIVE (0.6646)]}]"
      ]
     },
     "execution_count": 55,
     "metadata": {},
     "output_type": "execute_result"
    }
   ],
   "source": [
    "#Negative control\n",
    "neg_sentence = flair.data.Sentence(\"I absolutely disagree, I think you're wrong\")\n",
    "sentiment_model.predict(neg_sentence)\n",
    "neg_sentence"
   ]
  },
  {
   "cell_type": "code",
   "execution_count": 56,
   "metadata": {
    "id": "Y7zK8QSuzAHu"
   },
   "outputs": [],
   "source": [
    "#Start Sentiment Analysis"
   ]
  },
  {
   "cell_type": "code",
   "execution_count": 58,
   "metadata": {
    "id": "tzL6UapXzAHu"
   },
   "outputs": [
    {
     "name": "stderr",
     "output_type": "stream",
     "text": [
      "Exception ignored in: <function tqdm.__del__ at 0x000001A6F262F678>\n",
      "Traceback (most recent call last):\n",
      "  File \"C:\\Users\\jwkon\\anaconda3\\envs\\Sentiment\\lib\\site-packages\\tqdm\\std.py\", line 1135, in __del__\n",
      "    self.close()\n",
      "  File \"C:\\Users\\jwkon\\anaconda3\\envs\\Sentiment\\lib\\site-packages\\tqdm\\notebook.py\", line 288, in close\n",
      "    self.disp(bar_style='danger')\n",
      "AttributeError: 'tqdm' object has no attribute 'disp'\n"
     ]
    }
   ],
   "source": [
    "# we will append probability and sentiment preds later\n",
    "probs = []\n",
    "sentiments = []\n",
    "\n",
    "\n",
    "\n",
    "for tweet in data['Tweet'].to_list():\n",
    "    # make prediction\n",
    "    sentence = flair.data.Sentence(tweet)\n",
    "    sentiment_model.predict(sentence)\n",
    "    # extract sentiment prediction\n",
    "    probs.append(sentence.labels[0].score)  # numerical score 0-1\n",
    "    sentiments.append(sentence.labels[0].value)  # 'POSITIVE' or 'NEGATIVE'\n",
    "\n",
    "# add probability and sentiment predictions to tweets dataframe\n",
    "data['probability'] = probs\n",
    "data['sentiment'] = sentiments"
   ]
  },
  {
   "cell_type": "code",
   "execution_count": 59,
   "metadata": {},
   "outputs": [
    {
     "data": {
      "text/html": [
       "<div>\n",
       "<style scoped>\n",
       "    .dataframe tbody tr th:only-of-type {\n",
       "        vertical-align: middle;\n",
       "    }\n",
       "\n",
       "    .dataframe tbody tr th {\n",
       "        vertical-align: top;\n",
       "    }\n",
       "\n",
       "    .dataframe thead th {\n",
       "        text-align: right;\n",
       "    }\n",
       "</style>\n",
       "<table border=\"1\" class=\"dataframe\">\n",
       "  <thead>\n",
       "    <tr style=\"text-align: right;\">\n",
       "      <th></th>\n",
       "      <th>Date</th>\n",
       "      <th>ID</th>\n",
       "      <th>lang</th>\n",
       "      <th>Tweet</th>\n",
       "      <th>Original Tweet</th>\n",
       "      <th>probability</th>\n",
       "      <th>sentiment</th>\n",
       "    </tr>\n",
       "  </thead>\n",
       "  <tbody>\n",
       "    <tr>\n",
       "      <th>0</th>\n",
       "      <td>2021-01-03T19:20:59.000Z</td>\n",
       "      <td>1345812421676576768</td>\n",
       "      <td>en</td>\n",
       "      <td>mkbhd step 2 buy eth sub 1k step 3 outperform btcagain</td>\n",
       "      <td>@MKBHD Step 2: buy $ETH sub $1k\\n\\nStep 3: outperform $BTC...again.</td>\n",
       "      <td>0.955776</td>\n",
       "      <td>NEGATIVE</td>\n",
       "    </tr>\n",
       "    <tr>\n",
       "      <th>1</th>\n",
       "      <td>2021-01-03T19:20:59.000Z</td>\n",
       "      <td>1345812421600940032</td>\n",
       "      <td>en</td>\n",
       "      <td>rt naturalmed777 think xrp xlm bigger people realize many stablecoins quietly built stellarxlm</td>\n",
       "      <td>RT @Naturalmed777: I think $XRP $XLM are bigger than what most people realize.\\n\\nHow many stablecoins were quietly built on Stellar/XLM in t…</td>\n",
       "      <td>0.874341</td>\n",
       "      <td>NEGATIVE</td>\n",
       "    </tr>\n",
       "    <tr>\n",
       "      <th>2</th>\n",
       "      <td>2021-01-03T19:20:59.000Z</td>\n",
       "      <td>1345812421584285698</td>\n",
       "      <td>en</td>\n",
       "      <td>rt sheresed69 new toy subscribe onlyfans see squirt link bio httpstcox6ga8zbroo</td>\n",
       "      <td>RT @Sheresed69: New toy 😍😍 subscribe to my onlyfans to see me squirt 🥰\\nLink in bio 🤑 https://t.co/x6Ga8ZBrOO</td>\n",
       "      <td>0.830131</td>\n",
       "      <td>NEGATIVE</td>\n",
       "    </tr>\n",
       "    <tr>\n",
       "      <th>3</th>\n",
       "      <td>2021-01-03T19:20:59.000Z</td>\n",
       "      <td>1345812420955144197</td>\n",
       "      <td>en</td>\n",
       "      <td>rt tokengoodguy0 digibyte dgb likely move faster bitcoin btc people realize undervalued secure faster</td>\n",
       "      <td>RT @TokenGoodGuy0: .\\n#Digibyte $dgb likely to move faster than #Bitcoin $btc when people realize it is undervalued, secure and faster\\n\\nIf D…</td>\n",
       "      <td>0.877802</td>\n",
       "      <td>POSITIVE</td>\n",
       "    </tr>\n",
       "    <tr>\n",
       "      <th>4</th>\n",
       "      <td>2021-01-03T19:20:59.000Z</td>\n",
       "      <td>1345812420783206401</td>\n",
       "      <td>en</td>\n",
       "      <td>rt nixtetic use comp remote commission work halt crash often know stop working woul</td>\n",
       "      <td>RT @nixtetic: I use my comp. for remote and commission work, but it halts and crashes so often that I know it will stop working, and I woul…</td>\n",
       "      <td>0.999274</td>\n",
       "      <td>NEGATIVE</td>\n",
       "    </tr>\n",
       "  </tbody>\n",
       "</table>\n",
       "</div>"
      ],
      "text/plain": [
       "                       Date                   ID lang  \\\n",
       "0  2021-01-03T19:20:59.000Z  1345812421676576768   en   \n",
       "1  2021-01-03T19:20:59.000Z  1345812421600940032   en   \n",
       "2  2021-01-03T19:20:59.000Z  1345812421584285698   en   \n",
       "3  2021-01-03T19:20:59.000Z  1345812420955144197   en   \n",
       "4  2021-01-03T19:20:59.000Z  1345812420783206401   en   \n",
       "\n",
       "                                                                                                   Tweet  \\\n",
       "0                                                 mkbhd step 2 buy eth sub 1k step 3 outperform btcagain   \n",
       "1         rt naturalmed777 think xrp xlm bigger people realize many stablecoins quietly built stellarxlm   \n",
       "2                        rt sheresed69 new toy subscribe onlyfans see squirt link bio httpstcox6ga8zbroo   \n",
       "3  rt tokengoodguy0 digibyte dgb likely move faster bitcoin btc people realize undervalued secure faster   \n",
       "4                    rt nixtetic use comp remote commission work halt crash often know stop working woul   \n",
       "\n",
       "                                                                                                                                    Original Tweet  \\\n",
       "0                                                                              @MKBHD Step 2: buy $ETH sub $1k\\n\\nStep 3: outperform $BTC...again.   \n",
       "1   RT @Naturalmed777: I think $XRP $XLM are bigger than what most people realize.\\n\\nHow many stablecoins were quietly built on Stellar/XLM in t…   \n",
       "2                                    RT @Sheresed69: New toy 😍😍 subscribe to my onlyfans to see me squirt 🥰\\nLink in bio 🤑 https://t.co/x6Ga8ZBrOO   \n",
       "3  RT @TokenGoodGuy0: .\\n#Digibyte $dgb likely to move faster than #Bitcoin $btc when people realize it is undervalued, secure and faster\\n\\nIf D…   \n",
       "4     RT @nixtetic: I use my comp. for remote and commission work, but it halts and crashes so often that I know it will stop working, and I woul…   \n",
       "\n",
       "   probability sentiment  \n",
       "0     0.955776  NEGATIVE  \n",
       "1     0.874341  NEGATIVE  \n",
       "2     0.830131  NEGATIVE  \n",
       "3     0.877802  POSITIVE  \n",
       "4     0.999274  NEGATIVE  "
      ]
     },
     "execution_count": 59,
     "metadata": {},
     "output_type": "execute_result"
    }
   ],
   "source": [
    "#Preview dataframe\n",
    "data.head()"
   ]
  },
  {
   "cell_type": "code",
   "execution_count": 60,
   "metadata": {},
   "outputs": [
    {
     "name": "stdout",
     "output_type": "stream",
     "text": [
      "NEGATIVE    4820\n",
      "POSITIVE    4283\n",
      "Name: sentiment, dtype: int64\n",
      "AxesSubplot(0.125,0.125;0.775x0.755)\n"
     ]
    },
    {
     "data": {
      "image/png": "[encoded data removed]",
      "text/plain": [
       "<Figure size 432x288 with 1 Axes>"
      ]
     },
     "metadata": {
      "needs_background": "light"
     },
     "output_type": "display_data"
    }
   ],
   "source": [
    "#View value counts for sentiment results\n",
    "print(data['sentiment'].value_counts())\n",
    "#View distribution freq of sentiment results\n",
    "print(data['sentiment'].hist(bins=2))"
   ]
  },
  {
   "cell_type": "code",
   "execution_count": 61,
   "metadata": {
    "id": "FYAxl_6RzAHv"
   },
   "outputs": [],
   "source": [
    "#Save cleaned dataframe to csv for analysis\n",
    "data.to_csv('Dec28toJan03(Flair).csv', index = False)"
   ]
  },
  {
   "cell_type": "code",
   "execution_count": null,
   "metadata": {},
   "outputs": [],
   "source": []
  }
 ],
 "metadata": {
  "colab": {
   "collapsed_sections": [],
   "name": "SentimentAnalysis(Flair).ipynb",
   "provenance": []
  },
  "kernelspec": {
   "display_name": "Python 3",
   "language": "python",
   "name": "python3"
  },
  "language_info": {
   "codemirror_mode": {
    "name": "ipython",
    "version": 3
   },
   "file_extension": ".py",
   "mimetype": "text/x-python",
   "name": "python",
   "nbconvert_exporter": "python",
   "pygments_lexer": "ipython3",
   "version": "3.9.1"
  }
 },
 "nbformat": 4,
 "nbformat_minor": 4
}
